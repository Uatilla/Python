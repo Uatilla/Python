{
 "cells": [
  {
   "cell_type": "markdown",
   "metadata": {
    "ExecuteTime": {
     "end_time": "2019-10-04T16:32:41.387912Z",
     "start_time": "2019-10-04T16:32:41.380663Z"
    }
   },
   "source": [
    "## REIT STOCK ANALYSIS"
   ]
  },
  {
   "cell_type": "markdown",
   "metadata": {
    "ExecuteTime": {
     "end_time": "2019-10-04T16:33:50.551461Z",
     "start_time": "2019-10-04T16:33:50.535991Z"
    }
   },
   "source": [
    "In this project, you will analyze Real Estate Investment Trusts, commonly known as REITs. REITs are companies that own or operate real estate that produces income. REITs, like the stocks of regular public companies, are traded on different stock exchanges. Investing in a REIT allows you to invest in portfolios of real estate assets the same way you can invest in a company by buying its stock.\n",
    "\n",
    "Using financial statistics and NumPy you will analyze two REITs: [Sabra Health Care REIT Inc. (NASDAQ: SBRA)](https://finance.yahoo.com/quote/SBRA/), which invests in health care real estate, and [Equity Residential (NASDAQ:EQR)](https://finance.yahoo.com/quote/EQR/), which invests in rental apartment properties.\n"
   ]
  },
  {
   "cell_type": "markdown",
   "metadata": {},
   "source": [
    "The time period for analysis we will be using is `Jan 1 2018` to `Dec 31 2018`. The REIT data for SBRA (`SBRA.csv`) and EQR (`EQR.csv`) can be found in the same folder as this file."
   ]
  },
  {
   "cell_type": "markdown",
   "metadata": {},
   "source": [
    "1. Import the numpy module as np"
   ]
  },
  {
   "cell_type": "code",
   "execution_count": 1,
   "metadata": {},
   "outputs": [],
   "source": [
    "import numpy as np"
   ]
  },
  {
   "cell_type": "markdown",
   "metadata": {},
   "source": [
    "2. Load the adjusted closings for SBRA"
   ]
  },
  {
   "cell_type": "code",
   "execution_count": 2,
   "metadata": {},
   "outputs": [
    {
     "name": "stdout",
     "output_type": "stream",
     "text": [
      "[15.36233  16.012386 16.528606 16.882313 17.427212 17.522808 17.513248\n",
      " 17.427212 17.264698 17.417652 17.847836 18.105947 18.344938 18.306698\n",
      " 18.497892 18.77512  19.09059  19.386936 19.377378 19.55901  19.635489\n",
      " 19.425177 19.664167 19.539892 19.635489 19.80756  19.654606 19.60681\n",
      " 19.358257 19.32958  19.339357 19.544678 19.388243 19.241585 19.222029\n",
      " 19.143812 18.635395 18.381187 18.038986 17.716337 17.31547  17.247028\n",
      " 17.256807 17.149258 17.119926 17.071039 17.383911 17.608788 17.941214\n",
      " 17.970543 17.892326 17.726112 17.765223 17.980322 18.58651  18.293192\n",
      " 18.449629 18.762501 18.870049 19.192698 19.036261 18.899382 18.879826\n",
      " 18.694059 18.762501 18.958044 18.870049 18.801609 19.04604  19.241585\n",
      " 19.241585 19.222029 18.821163 18.361633 18.713614 18.410519 18.713614\n",
      " 18.909159 18.909159 19.153589 18.967821 19.124256 19.094927 19.143812\n",
      " 19.554455 19.456682 19.143812 19.319801 18.840717 19.310024 19.241585\n",
      " 19.417574 19.574011 19.75     19.709999 19.530001 19.73     19.700001\n",
      " 19.709999 19.75     19.540001 19.219999 19.370001 19.290001 19.24\n",
      " 19.1      19.32     19.450001 19.49     19.32     19.290001 19.32\n",
      " 19.48     19.43     19.790001 19.58     20.139999 20.049999 19.57\n",
      " 19.309999 19.26     18.870001 19.450001 19.690001]\n"
     ]
    }
   ],
   "source": [
    "adj_closings_sbra = np.loadtxt(\"SBRA.csv\", skiprows=1, usecols=5, delimiter=',')\n",
    "print(adj_closings_sbra)"
   ]
  },
  {
   "cell_type": "markdown",
   "metadata": {},
   "source": [
    "## Calculate Simple Rate of Return"
   ]
  },
  {
   "cell_type": "markdown",
   "metadata": {},
   "source": [
    "3. To calculate the daily RoR for the SBRA stock we need the daily adjusted closing price. The formula we are using for the daily rate of return is out[n] = a[n+1] - a[n] "
   ]
  },
  {
   "cell_type": "markdown",
   "metadata": {},
   "source": [
    "4. Create a function that returns the daily rate of return\n",
    "\n",
    "    step 1. define a function named `rate_of_return`\n",
    "    \n",
    "    step 2. create parameter for  `adj_closings`\n",
    "    \n",
    "    step 3. Within the function use np.diff() and set it to the variable `daily_simple_ror`\n",
    "    \n",
    "    step 4. return `daily_simple_ror`"
   ]
  },
  {
   "cell_type": "code",
   "execution_count": 3,
   "metadata": {},
   "outputs": [],
   "source": [
    "def simple_rate_of_return(adj_closings):\n",
    "    daily_simple_ror = np.diff(adj_closings)/adj_closings[:-1]\n",
    "    return daily_simple_ror"
   ]
  },
  {
   "cell_type": "markdown",
   "metadata": {},
   "source": [
    "5. Call the function `simple_rate_of_return` with the arguments `adj_closings_sbra`. Then print the results. "
   ]
  },
  {
   "cell_type": "code",
   "execution_count": 4,
   "metadata": {},
   "outputs": [
    {
     "name": "stdout",
     "output_type": "stream",
     "text": [
      "[ 0.04231494  0.03223879  0.02139969  0.03227632  0.00548544 -0.00054557\n",
      " -0.00491262 -0.0093253   0.00885935  0.02469816  0.01446175  0.01319959\n",
      " -0.0020845   0.01044394  0.01498701  0.01680256  0.01552315 -0.00049301\n",
      "  0.0093734   0.00391017 -0.01071081  0.01230311 -0.00631987  0.0048924\n",
      "  0.00876327 -0.007722   -0.0024318  -0.01267687 -0.00148138  0.00050581\n",
      "  0.01061674 -0.00800397 -0.00756427 -0.00101634 -0.00406913 -0.02655777\n",
      " -0.01364114 -0.01861692 -0.0178862  -0.02262697 -0.00395265  0.000567\n",
      " -0.00623227 -0.00171039 -0.00285556  0.01832765  0.01293593  0.01887841\n",
      "  0.00163473 -0.00435251 -0.00928968  0.00220641  0.01210787  0.03371397\n",
      " -0.01578123  0.00855165  0.01695817  0.00573207  0.01709847 -0.00815086\n",
      " -0.00719044 -0.00103474 -0.00983944  0.00366116  0.01042201 -0.00464157\n",
      " -0.00362691  0.01300054  0.01026696  0.         -0.00101634 -0.02085451\n",
      " -0.0244156   0.01916937 -0.0161965   0.01646314  0.01044934  0.\n",
      "  0.01292654 -0.00969886  0.00824739 -0.0015336   0.0025601   0.02145043\n",
      " -0.00500004 -0.01608034  0.009193   -0.02479756  0.02490919 -0.00354422\n",
      "  0.00914628  0.00805646  0.00899095 -0.00202537 -0.00913232  0.0102406\n",
      " -0.00152048  0.00050751  0.00202948 -0.01063286 -0.01637676  0.00780447\n",
      " -0.0041301  -0.00259207 -0.00727651  0.01151832  0.00672883  0.0020565\n",
      " -0.00872242 -0.00155274  0.00155516  0.00828157 -0.00256674  0.0185281\n",
      " -0.01061147  0.02860056 -0.00446872 -0.0239401  -0.01328569 -0.00258928\n",
      " -0.02024917  0.03073662  0.01233933]\n"
     ]
    }
   ],
   "source": [
    "daily_simple_returns_sbra = simple_rate_of_return(adj_closings_sbra)\n",
    "print(daily_simple_returns_sbra )"
   ]
  },
  {
   "cell_type": "markdown",
   "metadata": {},
   "source": [
    "## Calculate Average Daily Return"
   ]
  },
  {
   "cell_type": "markdown",
   "metadata": {},
   "source": [
    "6. Use `np.mean()` with the argument `daily_simple_returns_sbra` to calculate the average daily return. Then set it to the variable name `average_daily_simple_return_sbra`"
   ]
  },
  {
   "cell_type": "code",
   "execution_count": 5,
   "metadata": {},
   "outputs": [
    {
     "name": "stdout",
     "output_type": "stream",
     "text": [
      "0.00210937212011956\n"
     ]
    }
   ],
   "source": [
    "average_daily_simple_return_sbra = np.mean(daily_simple_returns_sbra)\n",
    "print(average_daily_simple_return_sbra)"
   ]
  },
  {
   "cell_type": "markdown",
   "metadata": {},
   "source": [
    "## Calculate Daily Log Returns"
   ]
  },
  {
   "cell_type": "markdown",
   "metadata": {},
   "source": [
    "7. Create a function that returns the daily rate of return\n",
    "\n",
    "    step 1. define a function named log_returns\n",
    "    \n",
    "    step 2. create parameter for  `adj_closings`\n",
    "    \n",
    "    step 3. use np.log() to get the log of each adjusted closing price and set it to the variable `log_adj_closings`\n",
    "    \n",
    "    step 4. use np.diff() to get the diff of each daily log adjusted closing price and set it to the variable `daily_log_returns`\n",
    "    \n",
    "    step 5. return `daily_log_returns`"
   ]
  },
  {
   "cell_type": "code",
   "execution_count": 6,
   "metadata": {},
   "outputs": [],
   "source": [
    "def log_returns(adj_closings):\n",
    "    log_adj_closings = np.log(adj_closings)\n",
    "    daily_log_returns = np.diff(log_adj_closings)\n",
    "    return daily_log_returns"
   ]
  },
  {
   "cell_type": "markdown",
   "metadata": {},
   "source": [
    "8. Call the function `log_returns` with the arguments `adj_closings_sbra`. Set it to the variable `daily_log_returns_sbra`. Then print the results. "
   ]
  },
  {
   "cell_type": "code",
   "execution_count": 7,
   "metadata": {},
   "outputs": [
    {
     "name": "stdout",
     "output_type": "stream",
     "text": [
      "[ 0.04144414  0.03173003  0.02117393  0.03176639  0.00547045 -0.00054572\n",
      " -0.00492473 -0.00936905  0.00882034  0.02439809  0.01435818  0.01311323\n",
      " -0.00208667  0.01038978  0.01487581  0.01666295  0.01540389 -0.00049313\n",
      "  0.00932975  0.00390254 -0.01076858  0.01222804 -0.00633993  0.00488047\n",
      "  0.00872509 -0.00775197 -0.00243476 -0.01275791 -0.00148248  0.00050568\n",
      "  0.01056078 -0.00803617 -0.00759303 -0.00101686 -0.00407743 -0.0269168\n",
      " -0.01373503 -0.01879239 -0.0180481  -0.02288689 -0.00396048  0.00056684\n",
      " -0.00625177 -0.00171186 -0.00285965  0.01816172  0.01285297  0.01870243\n",
      "  0.00163339 -0.00436201 -0.0093331   0.00220398  0.01203516  0.03315811\n",
      " -0.01590708  0.00851529  0.01681599  0.00571571  0.01695394 -0.00818426\n",
      " -0.00721641 -0.00103528 -0.00988817  0.00365448  0.01036808 -0.00465237\n",
      " -0.0036335   0.01291675  0.01021462  0.         -0.00101686 -0.02107504\n",
      " -0.0247186   0.01898796 -0.01632909  0.01632909  0.01039513  0.\n",
      "  0.01284371 -0.0097462   0.00821357 -0.00153478  0.00255683  0.02122361\n",
      " -0.00501258 -0.01621103  0.009151   -0.0251102   0.02460401 -0.00355052\n",
      "  0.00910471  0.00802418  0.00895077 -0.00202742 -0.00917427  0.01018852\n",
      " -0.00152163  0.00050738  0.00202742 -0.01068979 -0.01651235  0.00777418\n",
      " -0.00413865 -0.00259543 -0.00730311  0.01145249  0.00670629  0.00205439\n",
      " -0.00876068 -0.00155395  0.00155395  0.00824747 -0.00257003  0.01835855\n",
      " -0.01066817  0.0281992  -0.00447873 -0.02423132 -0.01337474 -0.00259264\n",
      " -0.02045699  0.03027371  0.01226382]\n"
     ]
    }
   ],
   "source": [
    "daily_log_returns_sbra = log_returns(adj_closings_sbra)\n",
    "print(daily_log_returns_sbra)"
   ]
  },
  {
   "cell_type": "markdown",
   "metadata": {},
   "source": [
    "## Calculate Annualize Daily Log Return"
   ]
  },
  {
   "cell_type": "markdown",
   "metadata": {},
   "source": [
    "9. Create a function that returns the daily rate of return\n",
    "\n",
    "    step 1. define a function named `annualize_log_return`\n",
    "    \n",
    "    step 2. create parameter for  `daily_log_returns`\n",
    "    \n",
    "    step 3. use `np.mean()` with the argument `daily_log_returns` to calculate the average daily return. Then set it to the variable name `average_daily_log_returns`\n",
    "    \n",
    "    step 4. then multiply `average_daily_log_returns` by 250 and set it to the variable `annualized_log_return`\n",
    "    \n",
    "    step 5. return `annualized_log_return`"
   ]
  },
  {
   "cell_type": "code",
   "execution_count": 8,
   "metadata": {},
   "outputs": [],
   "source": [
    "def annualize_log_return(daily_log_returns):\n",
    "    average_daily_log_returns = np.mean(daily_log_returns)\n",
    "    annualized_log_return = average_daily_log_returns*250\n",
    "    return annualized_log_return"
   ]
  },
  {
   "cell_type": "markdown",
   "metadata": {},
   "source": [
    "10. Call the function `annualize_log_return` with the arguments `daily_log_returns`. Set it to the variable `annualized_log_return_sbra`. Then print the results. "
   ]
  },
  {
   "cell_type": "code",
   "execution_count": 9,
   "metadata": {},
   "outputs": [
    {
     "name": "stdout",
     "output_type": "stream",
     "text": [
      "0.5044563709645333\n"
     ]
    }
   ],
   "source": [
    "annualized_log_return_sbra = annualize_log_return(daily_log_returns_sbra)\n",
    "print(annualized_log_return_sbra)"
   ]
  },
  {
   "cell_type": "markdown",
   "metadata": {},
   "source": [
    "## Calculate Variance of Daily Log Returns"
   ]
  },
  {
   "cell_type": "markdown",
   "metadata": {},
   "source": [
    "11. Calculate the variance of the daily logarithmetic return. Use the function `.var()` with the argument `log_daily_ror`. Set it to the variable `daily_varaince_sbra`. Then print the results. "
   ]
  },
  {
   "cell_type": "code",
   "execution_count": 10,
   "metadata": {},
   "outputs": [
    {
     "name": "stdout",
     "output_type": "stream",
     "text": [
      "0.00017844226355047074\n"
     ]
    }
   ],
   "source": [
    "daily_varaince_sbra = np.var(daily_log_returns_sbra)\n",
    "print(daily_varaince_sbra)"
   ]
  },
  {
   "cell_type": "markdown",
   "metadata": {},
   "source": [
    "## Calculate Standard Deviation"
   ]
  },
  {
   "cell_type": "markdown",
   "metadata": {},
   "source": [
    "12. Calculate the Standard Deviation of the daily logarithmetic return. Use the function `.std()` with the argument `daily_log_returns_sbra`. Set it to the variable `daily_sd_sbra`. Then print the results. "
   ]
  },
  {
   "cell_type": "code",
   "execution_count": 11,
   "metadata": {},
   "outputs": [
    {
     "name": "stdout",
     "output_type": "stream",
     "text": [
      "0.013358228308816658\n"
     ]
    }
   ],
   "source": [
    "daily_sd_sbra = np.std(daily_log_returns_sbra)\n",
    "print(daily_sd_sbra)"
   ]
  },
  {
   "cell_type": "code",
   "execution_count": 12,
   "metadata": {},
   "outputs": [],
   "source": [
    "## Load EQR Data"
   ]
  },
  {
   "cell_type": "markdown",
   "metadata": {},
   "source": [
    "13. Load the adjusted closings for EQR"
   ]
  },
  {
   "cell_type": "code",
   "execution_count": 13,
   "metadata": {},
   "outputs": [
    {
     "name": "stdout",
     "output_type": "stream",
     "text": [
      "[60.47094  60.785145 59.737785 59.69017  60.09008  59.366444 58.519035\n",
      " 58.042961 57.528797 57.766834 57.938221 57.557369 57.576412 58.25243\n",
      " 58.833241 58.499992 58.280998 58.595207 58.280998 57.671623 58.661854\n",
      " 57.443108 57.081291 55.272205 54.948479 54.139149 52.615715 53.939201\n",
      " 53.901115 54.262936 53.958241 55.138905 55.196041 54.881824 53.196526\n",
      " 53.482162 54.262936 54.396236 53.158443 53.539295 53.624992 53.282219\n",
      " 53.767815 54.167717 55.062733 55.481682 56.662346 56.652824 56.529049\n",
      " 56.690907 56.862297 57.347885 57.433582 57.385979 57.252682 56.890862\n",
      " 56.074154 56.669872 57.025375 59.13921  59.206463 58.649181 59.907871\n",
      " 60.676544 60.811054 60.580456 59.859833 60.24416  60.080822 59.043129\n",
      " 59.235291 59.264114 59.984741 59.552368 58.322498 57.755608 58.043861\n",
      " 58.332108 57.947781 58.735661 59.523544 59.292942 59.782963 59.100777\n",
      " 59.187248 59.667667 60.051998 59.706097 60.10965  60.445938 60.10004\n",
      " 59.850227 58.610756 57.890129 57.400108 57.294415 57.928562 58.053467\n",
      " 59.331371 58.802917 59.340984 59.437069 61.320293 61.483639 61.329906\n",
      " 62.079353 61.512459 61.810322 61.598942 62.069744 61.531685 61.695023\n",
      " 60.724579 61.253036 60.993614 59.975132 59.581192 60.20573  60.397903\n",
      " 61.173222 61.696571 61.086002 60.756485 61.347672 61.725643 61.512432\n",
      " 61.638416 62.365288 62.791721 62.559124 62.869247 62.869247 63.121223\n",
      " 62.510662 62.442822 61.890404 62.074543 62.30714  61.270142 61.279835\n",
      " 61.541504 62.617268 62.510662 62.055157 61.803177 63.411976 63.877186\n",
      " 63.935322 64.846336 64.933556 64.846336 64.497437 64.82695  63.925632\n",
      " 64.303596 64.545891 65.088631 65.311523 65.757339 65.660423 64.914177\n",
      " 64.836639 64.797874 65.350296 65.398758 65.834869 65.82518  65.573204\n",
      " 65.660423 64.952942 65.350296 65.893021 65.166153 65.708885 65.902718\n",
      " 65.670113 66.038399 65.737953 66.290375 65.679802 64.943253 65.82518\n",
      " 66.128029 64.574722 64.711487 63.490334 63.451248 64.731033 64.516106\n",
      " 64.711487 63.851795 63.461025 63.392643 63.793179 64.037407 63.197254\n",
      " 61.41925  61.223866 61.526714 62.894405 62.591557 62.923717 63.373104\n",
      " 62.073792 62.26918  63.920177 64.535629 63.343788 64.691948 64.262108\n",
      " 63.461025 63.324253 62.953026 64.15464  64.985023 65.913109 65.747025\n",
      " 65.922874 66.460175 66.56765  67.17334  66.215942 67.759491 67.798569\n",
      " 67.945114 67.896263 67.515259 67.847412 68.23819  68.599648 68.648491\n",
      " 69.605881 70.221344 69.12719  70.973579 70.01619  69.859886 69.77195\n",
      " 67.896263 68.404259 68.326111 66.176872 66.743484 66.655571 66.548111\n",
      " 65.6884   62.210564 63.910404 64.535629 64.711487 65.016823]\n"
     ]
    }
   ],
   "source": [
    "adj_closings_eqr = np.loadtxt(\"EQR.csv\", skiprows=1, usecols=5, delimiter=',')\n",
    "print(adj_closings_eqr)"
   ]
  },
  {
   "cell_type": "markdown",
   "metadata": {},
   "source": [
    "## Calculate Simple Rate of Return EQR"
   ]
  },
  {
   "cell_type": "markdown",
   "metadata": {},
   "source": [
    "14. Call the function `simple_rate_of_return` with the arguments `adj_closings_eqr`. Then print the results. "
   ]
  },
  {
   "cell_type": "code",
   "execution_count": 14,
   "metadata": {},
   "outputs": [
    {
     "name": "stdout",
     "output_type": "stream",
     "text": [
      "[ 0.00519597 -0.01723053 -0.00079707  0.00669976 -0.01204252 -0.01427421\n",
      " -0.00813537 -0.00885834  0.0041377   0.00296688 -0.00657342  0.00033085\n",
      "  0.01174123  0.00997059 -0.0056643  -0.00374349  0.00539128 -0.00536237\n",
      " -0.01045581  0.01717016 -0.02077578 -0.0062987  -0.03169315 -0.00585694\n",
      " -0.01472889 -0.02813923  0.02515382 -0.00070609  0.00671268 -0.00561516\n",
      "  0.02188107  0.00103622 -0.00569275 -0.03070776  0.00536945  0.01459877\n",
      "  0.00245656 -0.02275512  0.00716447  0.00160064 -0.00639204  0.00911366\n",
      "  0.00743757  0.01652305  0.00760858  0.02128025 -0.00016805 -0.0021848\n",
      "  0.00286327  0.00302324  0.00853972  0.00149434 -0.00082884 -0.00232281\n",
      " -0.0063197  -0.0143557   0.01062375  0.00627323  0.03706832  0.0011372\n",
      " -0.00941252  0.02146134  0.01283092  0.00221684 -0.00379204 -0.0118953\n",
      "  0.00642045 -0.00271127 -0.01727162  0.0032546   0.00048658  0.01215958\n",
      " -0.00720805 -0.02065191 -0.00971992  0.00499091  0.00496602 -0.0065886\n",
      "  0.01359638  0.01341405 -0.00387413  0.00826441 -0.01141104  0.00146311\n",
      "  0.00811693  0.00644119 -0.00576002  0.00675899  0.00559458 -0.00572244\n",
      " -0.00415662 -0.02070955 -0.01229513 -0.00846467 -0.00184134  0.01106822\n",
      "  0.00215619  0.02201254 -0.00890682  0.00915035  0.0016192   0.03168433\n",
      "  0.00266382 -0.00250039  0.01221993 -0.00913176  0.00484232 -0.00341982\n",
      "  0.00764302 -0.00866862  0.00265453 -0.0157297   0.00870252 -0.00423525\n",
      " -0.01669817 -0.00656839  0.01048213  0.00319194  0.01283685  0.0085552\n",
      " -0.00989632 -0.00539431  0.00973043  0.00616113 -0.00345417  0.00204811\n",
      "  0.01179252  0.00683767 -0.00370426  0.00495728  0.          0.00400794\n",
      " -0.00967283 -0.00108525 -0.00884678  0.00297524  0.00374706 -0.01664333\n",
      "  0.0001582   0.00427007  0.0174803  -0.0017025  -0.00728684 -0.00406058\n",
      "  0.02603101  0.00733631  0.00091012  0.01424899  0.00134503 -0.00134322\n",
      " -0.0053804   0.00510893 -0.01390345  0.00591256  0.00376799  0.00840859\n",
      "  0.00342444  0.00682599 -0.00147384 -0.01136523 -0.00119447 -0.00059789\n",
      "  0.00852531  0.00074157  0.00666849 -0.00014717 -0.00382796  0.0013301\n",
      " -0.01077485  0.00611757  0.00830486 -0.01103103  0.00832843  0.00294988\n",
      " -0.00352952  0.00560812 -0.00454957  0.0084034  -0.00921058 -0.01121424\n",
      "  0.01357996  0.00460081 -0.02348939  0.00211793 -0.01887073 -0.00061562\n",
      "  0.02016958 -0.00332031  0.00302841 -0.013285   -0.00611995 -0.00107754\n",
      "  0.00631834  0.00382843 -0.01311972 -0.0281342  -0.00318115  0.00494657\n",
      "  0.02222922 -0.00481518  0.00530679  0.00714177 -0.02050258  0.00314767\n",
      "  0.02651387  0.00962845 -0.01846795  0.02128322 -0.00664441 -0.01246587\n",
      " -0.00215521 -0.00586232  0.01908747  0.01294346  0.01428154 -0.00251974\n",
      "  0.00267463  0.00815045  0.00161713  0.00909886 -0.01425265  0.02331084\n",
      "  0.00057672  0.00216148 -0.00071898 -0.00561156  0.00491967  0.00575966\n",
      "  0.005297    0.000712    0.01394626  0.00884211 -0.0155815   0.02671003\n",
      " -0.01348937 -0.0022324  -0.00125875 -0.02688311  0.00748194 -0.00114244\n",
      " -0.0314556   0.00856208 -0.00131718 -0.00161217 -0.01291864 -0.05294445\n",
      "  0.02732398  0.00978284  0.00272498  0.00471842]\n"
     ]
    }
   ],
   "source": [
    "daily_simple_returns_eqr = simple_rate_of_return(adj_closings_eqr)\n",
    "print(daily_simple_returns_eqr)"
   ]
  },
  {
   "cell_type": "markdown",
   "metadata": {},
   "source": [
    "## Calculate Average Daily Return EQR"
   ]
  },
  {
   "cell_type": "markdown",
   "metadata": {},
   "source": [
    "15. Use `np.mean()` with the argument `daily_simple_returns_eqr` to calculate the average daily return. Then set it to the variable name `average_daily_simple_return_eqr`"
   ]
  },
  {
   "cell_type": "code",
   "execution_count": 15,
   "metadata": {},
   "outputs": [
    {
     "name": "stdout",
     "output_type": "stream",
     "text": [
      "0.0003603686312168377\n"
     ]
    }
   ],
   "source": [
    "average_daily_simple_return_eqr = np.mean(daily_simple_returns_eqr)\n",
    "print(average_daily_simple_return_eqr)"
   ]
  },
  {
   "cell_type": "markdown",
   "metadata": {},
   "source": [
    "## Calculate Daily Log Returns EQR"
   ]
  },
  {
   "cell_type": "markdown",
   "metadata": {},
   "source": [
    "16. Call the function `log_returns` with the arguments `adj_closings_eqr`. Set it to the variable `daily_log_returns_eqr`. Then print the results. "
   ]
  },
  {
   "cell_type": "code",
   "execution_count": 16,
   "metadata": {},
   "outputs": [
    {
     "name": "stdout",
     "output_type": "stream",
     "text": [
      "[ 0.00518251 -0.0173807  -0.00079738  0.00667742 -0.01211562 -0.01437706\n",
      " -0.00816864 -0.0088978   0.00412916  0.00296248 -0.00659512  0.0003308\n",
      "  0.01167284  0.00992121 -0.0056804  -0.00375051  0.0053768  -0.0053768\n",
      " -0.01051086  0.01702442 -0.02099464 -0.00631862 -0.03220625 -0.00587416\n",
      " -0.01483844 -0.02854273  0.02484267 -0.00070634  0.00669025 -0.00563098\n",
      "  0.02164511  0.00103568 -0.00570901 -0.03118913  0.00535508  0.01449324\n",
      "  0.00245354 -0.02301802  0.00713893  0.00159936 -0.00641255  0.00907238\n",
      "  0.00741005  0.01638803  0.00757978  0.02105699 -0.00016806 -0.00218719\n",
      "  0.00285918  0.00301868  0.00850346  0.00149322 -0.00082918 -0.00232552\n",
      " -0.00633976 -0.01445974  0.01056772  0.00625363  0.03639781  0.00113655\n",
      " -0.0094571   0.02123429  0.0127493   0.00221438 -0.00379925 -0.01196662\n",
      "  0.00639993 -0.00271495 -0.01742251  0.00324932  0.00048647  0.01208625\n",
      " -0.00723415 -0.02086814 -0.00976747  0.0049785   0.00495373 -0.0066104\n",
      "  0.01350478  0.01332488 -0.00388165  0.00823044 -0.01147665  0.00146204\n",
      "  0.00808417  0.00642054 -0.00577668  0.00673625  0.00557898 -0.00573887\n",
      " -0.00416528 -0.020927   -0.01237134 -0.0085007  -0.00184304  0.01100741\n",
      "  0.00215387  0.02177376 -0.00894673  0.00910873  0.00161789  0.03119274\n",
      "  0.00266027 -0.00250352  0.01214587 -0.00917371  0.00483063 -0.00342568\n",
      "  0.00761396 -0.00870641  0.00265102 -0.01585472  0.00866487 -0.00424425\n",
      " -0.01683916 -0.00659006  0.01042758  0.00318686  0.01275516  0.00851881\n",
      " -0.00994561 -0.00540891  0.0096834   0.00614223 -0.00346015  0.00204601\n",
      "  0.01172353  0.0068144  -0.00371114  0.00494503  0.          0.00399993\n",
      " -0.00971992 -0.00108584 -0.00888615  0.00297083  0.00374006 -0.01678338\n",
      "  0.00015819  0.00426098  0.01732928 -0.00170395 -0.00731352 -0.00406885\n",
      "  0.02569797  0.00730953  0.00090971  0.01414843  0.00134412 -0.00134412\n",
      " -0.00539492  0.00509593 -0.014001    0.00589515  0.0037609   0.00837344\n",
      "  0.00341859  0.0068028  -0.00147493 -0.01143031 -0.00119518 -0.00059807\n",
      "  0.00848918  0.0007413   0.00664635 -0.00014718 -0.0038353   0.00132922\n",
      " -0.01083332  0.00609893  0.00827056 -0.01109232  0.00829394  0.00294553\n",
      " -0.00353576  0.00559245 -0.00455995  0.00836828 -0.00925326 -0.01127759\n",
      "  0.01348858  0.00459026 -0.02376966  0.00211569 -0.01905105 -0.00061581\n",
      "  0.01996887 -0.00332583  0.00302383 -0.01337403 -0.00613876 -0.00107812\n",
      "  0.00629846  0.00382112 -0.01320655 -0.02853755 -0.00318622  0.00493437\n",
      "  0.02198575 -0.00482681  0.00529275  0.00711639 -0.02071567  0.00314273\n",
      "  0.02616847  0.00958239 -0.01864062  0.0210599  -0.00666659 -0.01254422\n",
      " -0.00215754 -0.00587957  0.01890759  0.01286041  0.01418052 -0.00252292\n",
      "  0.00267106  0.00811741  0.00161583  0.00905772 -0.01435519  0.02304329\n",
      "  0.00057655  0.00215914 -0.00071924 -0.00562736  0.00490761  0.00574314\n",
      "  0.00528302  0.00071175  0.01384991  0.00880325 -0.01570417  0.02635954\n",
      " -0.01358118 -0.00223489 -0.00125954 -0.02725107  0.00745409 -0.0011431\n",
      " -0.03196096  0.00852564 -0.00131805 -0.00161347 -0.01300281 -0.05439753\n",
      "  0.02695734  0.00973529  0.00272127  0.00470732]\n"
     ]
    }
   ],
   "source": [
    "daily_log_returns_eqr = log_returns(adj_closings_eqr)\n",
    "print(daily_log_returns_eqr)"
   ]
  },
  {
   "cell_type": "markdown",
   "metadata": {},
   "source": [
    "## Calculate Annualize Daily Log Return EQR"
   ]
  },
  {
   "cell_type": "markdown",
   "metadata": {},
   "source": [
    "17. Call the function `annualize_log_return` with the arguments `daily_log_returns_eqr`. Set it to the variable `annualized_log_return_eqr`. Then print the results. "
   ]
  },
  {
   "cell_type": "code",
   "execution_count": 17,
   "metadata": {},
   "outputs": [
    {
     "name": "stdout",
     "output_type": "stream",
     "text": [
      "0.07248313273073137\n"
     ]
    }
   ],
   "source": [
    "annualized_log_return_eqr = annualize_log_return(daily_log_returns_eqr)\n",
    "print(annualized_log_return_eqr)"
   ]
  },
  {
   "cell_type": "markdown",
   "metadata": {},
   "source": [
    "## Calculate Variance of Daily Log Returns"
   ]
  },
  {
   "cell_type": "markdown",
   "metadata": {},
   "source": [
    "18. Calculate the variance of the daily logarithmetic return. Use the function `.var()` with the argument `daily_log_returns_eqr`. Set it to the variable `daily_varaince_eqr`. Then print the results. "
   ]
  },
  {
   "cell_type": "code",
   "execution_count": 18,
   "metadata": {},
   "outputs": [
    {
     "name": "stdout",
     "output_type": "stream",
     "text": [
      "0.0001409887171232902\n"
     ]
    }
   ],
   "source": [
    "daily_varaince_eqr = np.var(daily_log_returns_eqr)\n",
    "print(daily_varaince_eqr)"
   ]
  },
  {
   "cell_type": "markdown",
   "metadata": {},
   "source": [
    "## Calculate Standard Deviation"
   ]
  },
  {
   "cell_type": "markdown",
   "metadata": {},
   "source": [
    "19. Calculate the Standard Deviation of the daily logarithmetic return. Use the function `.std()` with the argument `daily_log_returns_eqr`. Set it to the variable `daily_sd_eqr`. Then print the results. "
   ]
  },
  {
   "cell_type": "code",
   "execution_count": 19,
   "metadata": {},
   "outputs": [
    {
     "name": "stdout",
     "output_type": "stream",
     "text": [
      "0.011873866982718402\n"
     ]
    }
   ],
   "source": [
    "daily_sd_eqr = np.std(daily_log_returns_eqr)\n",
    "print(daily_sd_eqr)"
   ]
  },
  {
   "cell_type": "markdown",
   "metadata": {},
   "source": [
    "## Calculate the Correlation between SBRA and EQR"
   ]
  },
  {
   "cell_type": "markdown",
   "metadata": {},
   "source": [
    "20. Calculate the Correlation of the daily logarithmetic return between SBRA and ERQ assets. Use the function `.corrcoef()` with the arguments `daily_log_returns_sbra` and `daily_log_returns_eqr`. Set it to the variable `corr_sbra_eqr`. Then print the results. "
   ]
  },
  {
   "cell_type": "code",
   "execution_count": 20,
   "metadata": {},
   "outputs": [
    {
     "name": "stdout",
     "output_type": "stream",
     "text": [
      "[[1.        0.6738194]\n",
      " [0.6738194 1.       ]]\n"
     ]
    }
   ],
   "source": [
    "corr_sbra_eqr = np.corrcoef(daily_log_returns_sbra,daily_log_returns_eqr)\n",
    "print(corr_sbra_eqr)"
   ]
  },
  {
   "cell_type": "markdown",
   "metadata": {},
   "source": [
    "The dates have to be equivalent for corrcoef to work. The dates are for all of 2018 for EBR and SBRA"
   ]
  }
 ],
 "metadata": {
  "kernelspec": {
   "display_name": "Python 3 (ipykernel)",
   "language": "python",
   "name": "python3"
  },
  "language_info": {
   "codemirror_mode": {
    "name": "ipython",
    "version": 3
   },
   "file_extension": ".py",
   "mimetype": "text/x-python",
   "name": "python",
   "nbconvert_exporter": "python",
   "pygments_lexer": "ipython3",
   "version": "3.12.4"
  },
  "latex_envs": {
   "LaTeX_envs_menu_present": true,
   "autoclose": false,
   "autocomplete": true,
   "bibliofile": "biblio.bib",
   "cite_by": "apalike",
   "current_citInitial": 1,
   "eqLabelWithNumbers": true,
   "eqNumInitial": 1,
   "hotkeys": {
    "equation": "Ctrl-E",
    "itemize": "Ctrl-I"
   },
   "labels_anchors": false,
   "latex_user_defs": false,
   "report_style_numbering": false,
   "user_envs_cfg": false
  }
 },
 "nbformat": 4,
 "nbformat_minor": 4
}
